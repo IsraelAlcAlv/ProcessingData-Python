{
  "nbformat": 4,
  "nbformat_minor": 0,
  "metadata": {
    "colab": {
      "name": "S2.ipynb",
      "provenance": [],
      "collapsed_sections": [],
      "authorship_tag": "ABX9TyMv9P3onzB8mnBJWCsIYJfe",
      "include_colab_link": true
    },
    "kernelspec": {
      "name": "python3",
      "display_name": "Python 3"
    },
    "language_info": {
      "name": "python"
    }
  },
  "cells": [
    {
      "cell_type": "markdown",
      "metadata": {
        "id": "view-in-github",
        "colab_type": "text"
      },
      "source": [
        "<a href=\"https://colab.research.google.com/github/IsraelAlcAlv/ProcessingData-Python/blob/main/S2.ipynb\" target=\"_parent\"><img src=\"https://colab.research.google.com/assets/colab-badge.svg\" alt=\"Open In Colab\"/></a>"
      ]
    },
    {
      "cell_type": "code",
      "metadata": {
        "colab": {
          "base_uri": "https://localhost:8080/"
        },
        "id": "wWI1bOpcbwVP",
        "outputId": "51396064-1279-4364-d54e-b4eab8592eea"
      },
      "source": [
        "lista_1"
      ],
      "execution_count": null,
      "outputs": [
        {
          "output_type": "execute_result",
          "data": {
            "text/plain": [
              "[1, 2, 3, 4, 5]"
            ]
          },
          "metadata": {
            "tags": []
          },
          "execution_count": 2
        }
      ]
    },
    {
      "cell_type": "code",
      "metadata": {
        "colab": {
          "base_uri": "https://localhost:8080/"
        },
        "id": "zC2crMefb4Ss",
        "outputId": "5f729058-4fbc-4c7d-a539-995ed1f398c8"
      },
      "source": [
        "list(range(10))"
      ],
      "execution_count": null,
      "outputs": [
        {
          "output_type": "execute_result",
          "data": {
            "text/plain": [
              "[0, 1, 2, 3, 4, 5, 6, 7, 8, 9]"
            ]
          },
          "metadata": {
            "tags": []
          },
          "execution_count": 3
        }
      ]
    },
    {
      "cell_type": "code",
      "metadata": {
        "colab": {
          "base_uri": "https://localhost:8080/"
        },
        "id": "9nTZCCOob9g6",
        "outputId": "db03161f-118a-4d7e-a87a-81f5d4f1603f"
      },
      "source": [
        "lista_1[0]"
      ],
      "execution_count": null,
      "outputs": [
        {
          "output_type": "execute_result",
          "data": {
            "text/plain": [
              "1"
            ]
          },
          "metadata": {
            "tags": []
          },
          "execution_count": 10
        }
      ]
    },
    {
      "cell_type": "code",
      "metadata": {
        "colab": {
          "base_uri": "https://localhost:8080/"
        },
        "id": "h2x9UowXc7rq",
        "outputId": "dd6e2858-2d0b-4768-e9be-1cad52ea9c80"
      },
      "source": [
        "lista_1[-2]"
      ],
      "execution_count": null,
      "outputs": [
        {
          "output_type": "execute_result",
          "data": {
            "text/plain": [
              "4"
            ]
          },
          "metadata": {
            "tags": []
          },
          "execution_count": 11
        }
      ]
    },
    {
      "cell_type": "code",
      "metadata": {
        "id": "xfLHvj5ic-Zm"
      },
      "source": [
        "lista_2 = [4,4.5,True,\"Hola\"]"
      ],
      "execution_count": null,
      "outputs": []
    },
    {
      "cell_type": "code",
      "metadata": {
        "id": "Ymbm6rHQdUT4"
      },
      "source": [
        "var_1 = 34\n",
        "var_2 = 56\n",
        "var_3 = 89\n",
        "\n",
        "lista_3 = [var_1,var_2,var_3]"
      ],
      "execution_count": null,
      "outputs": []
    },
    {
      "cell_type": "code",
      "metadata": {
        "id": "PkUMrbmFdrR-"
      },
      "source": [
        "lista_4 = [[1,2,3],\n",
        "           [4,5,6],\n",
        "           [7,8,9]]"
      ],
      "execution_count": null,
      "outputs": []
    },
    {
      "cell_type": "code",
      "metadata": {
        "colab": {
          "base_uri": "https://localhost:8080/"
        },
        "id": "DDWqA_Ftd0Kc",
        "outputId": "6de1d777-338a-467c-cfb2-c6edb3ba0e23"
      },
      "source": [
        "lista_1.append(7)\n",
        "lista_1"
      ],
      "execution_count": null,
      "outputs": [
        {
          "output_type": "execute_result",
          "data": {
            "text/plain": [
              "[1, 2, 3, 4, 5, 7, 7]"
            ]
          },
          "metadata": {
            "tags": []
          },
          "execution_count": 17
        }
      ]
    },
    {
      "cell_type": "code",
      "metadata": {
        "colab": {
          "base_uri": "https://localhost:8080/"
        },
        "id": "98alnmQJiOH0",
        "outputId": "e302d6a6-75d7-4a37-9424-25ce537d4846"
      },
      "source": [
        "lista_1.pop()"
      ],
      "execution_count": null,
      "outputs": [
        {
          "output_type": "execute_result",
          "data": {
            "text/plain": [
              "7"
            ]
          },
          "metadata": {
            "tags": []
          },
          "execution_count": 18
        }
      ]
    },
    {
      "cell_type": "code",
      "metadata": {
        "colab": {
          "base_uri": "https://localhost:8080/"
        },
        "id": "uJRKMqzgiYEO",
        "outputId": "22bb8c94-d9f2-49df-c4b5-197dbd277378"
      },
      "source": [
        "lista_1"
      ],
      "execution_count": null,
      "outputs": [
        {
          "output_type": "execute_result",
          "data": {
            "text/plain": [
              "[1, 2, 3, 4, 5, 7]"
            ]
          },
          "metadata": {
            "tags": []
          },
          "execution_count": 19
        }
      ]
    },
    {
      "cell_type": "code",
      "metadata": {
        "id": "OX2Jk9k4iZca"
      },
      "source": [
        "diccionario_1 = {\"llave_1\": \"valor_1\",\n",
        "                 \"llave_2\": \"valor_2\",\n",
        "                 \"llave_3\": \"valor_3\"}"
      ],
      "execution_count": null,
      "outputs": []
    },
    {
      "cell_type": "code",
      "metadata": {
        "id": "TJ_aSFh3omgp"
      },
      "source": [
        "diccionario_2 = {1: \"uno\", 2: \"dos\" , 3: \"tres\"}"
      ],
      "execution_count": null,
      "outputs": []
    },
    {
      "cell_type": "code",
      "metadata": {
        "id": "rMIB9dF7ow4l"
      },
      "source": [
        "diccionario_3 = {\n",
        "    \"int\": 34,\n",
        "    \"float\": 4.5,\n",
        "    \"string\": \"hola\",\n",
        "    \"bool\": True,\n",
        "    \"lista\": [1,2,3,4,5],\n",
        "    \"diccionario\": {\n",
        "        1: \"uno\",\n",
        "        2: \"dos\"\n",
        "    },\n",
        "    5: \"hola\"\n",
        "}"
      ],
      "execution_count": null,
      "outputs": []
    },
    {
      "cell_type": "code",
      "metadata": {
        "colab": {
          "base_uri": "https://localhost:8080/"
        },
        "id": "WYGZFB3NplVN",
        "outputId": "d928f8be-956c-4f90-956a-6ab1bd1800b0"
      },
      "source": [
        "diccionario_3[\"float\"]"
      ],
      "execution_count": null,
      "outputs": [
        {
          "output_type": "execute_result",
          "data": {
            "text/plain": [
              "4.5"
            ]
          },
          "metadata": {
            "tags": []
          },
          "execution_count": 25
        }
      ]
    },
    {
      "cell_type": "code",
      "metadata": {
        "colab": {
          "base_uri": "https://localhost:8080/"
        },
        "id": "EFReKad3prlj",
        "outputId": "57c7ba23-b4b4-4546-fae2-2d485e3dc4f9"
      },
      "source": [
        "diccionario_3[\"lista\"][2]"
      ],
      "execution_count": null,
      "outputs": [
        {
          "output_type": "execute_result",
          "data": {
            "text/plain": [
              "3"
            ]
          },
          "metadata": {
            "tags": []
          },
          "execution_count": 26
        }
      ]
    },
    {
      "cell_type": "code",
      "metadata": {
        "colab": {
          "base_uri": "https://localhost:8080/",
          "height": 35
        },
        "id": "H8aqQBX7pxRm",
        "outputId": "46b70e34-7f10-4a5a-cbdb-658e52d12926"
      },
      "source": [
        "diccionario_3[\"diccionario\"][2]"
      ],
      "execution_count": null,
      "outputs": [
        {
          "output_type": "execute_result",
          "data": {
            "application/vnd.google.colaboratory.intrinsic+json": {
              "type": "string"
            },
            "text/plain": [
              "'dos'"
            ]
          },
          "metadata": {
            "tags": []
          },
          "execution_count": 27
        }
      ]
    },
    {
      "cell_type": "code",
      "metadata": {
        "colab": {
          "base_uri": "https://localhost:8080/"
        },
        "id": "EEyT2GIFp29G",
        "outputId": "cbf0410f-71ad-4be9-dbe8-1b123ece76de"
      },
      "source": [
        "diccionario_3.get(\"lista\",\"default\")"
      ],
      "execution_count": null,
      "outputs": [
        {
          "output_type": "execute_result",
          "data": {
            "text/plain": [
              "[1, 2, 3, 4, 5]"
            ]
          },
          "metadata": {
            "tags": []
          },
          "execution_count": 28
        }
      ]
    },
    {
      "cell_type": "code",
      "metadata": {
        "id": "y90AZpi5to4U"
      },
      "source": [
        ""
      ],
      "execution_count": null,
      "outputs": []
    }
  ]
}